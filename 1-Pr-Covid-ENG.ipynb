{
 "cells": [
  {
   "cell_type": "markdown",
   "metadata": {
    "azdata_cell_guid": "3f9c5101-7a40-422f-9c07-712a310173f4"
   },
   "source": [
    "# **Covid-19 impact in Latin America**\n",
    "\n",
    "* * *\n",
    "\n",
    "[**View dashboard online**](https://app.powerbi.com/view?r=eyJrIjoiNzhiMWZjZmYtMDQyZS00ODlhLWI0ZmEtNDllYWFhYjJjMjIwIiwidCI6ImNhOTdjMGRjLTdkMmUtNGNmYy1iNTdjLWYyYjA1MTg1ZDVhNyJ9&pageName=ReportSection)\n",
    "\n",
    "_**Tools used:** SQL - Power BI_\n",
    "\n",
    "\n",
    "# 0\\. Problem / Backround\n",
    "\n",
    "According to the CONCYTEC Committee on COVID-19, Peru had 5,977 deaths per million inhabitants until November 2021, the highest figure in the world.\n",
    "\n",
    "- What was the evolution of the mortality rate in Peru compared to other Latin American countries?\n",
    "- Did factors such as diabetes incidence and average age have an influence on the mortality rate of the countries?\n",
    "- What impact did vaccination have on the mortality rate compared to other countries?\n",
    "\n",
    "This project **goal** is to analyze the evolution of COVID-19 in Peru and the behavior of the mortality rate compared to other Latin American countries.\n",
    "\n",
    "\n",
    "# 1\\. Data exploration\n",
    "\n",
    "The dataset was extracted from [_Our World in Data_](https://ourworldindata.org/covid-deaths), to December 27, 2021 in two tables named:\n",
    "\n",
    "- Table \"Latin\\_deaths\": Cases, deaths, diabetes valence, average age, cases and deaths per million, new cases per day.\n",
    "- Table \"Vacu\\_latin\": Vaccination data, fully vaccinated population.\n",
    "\n",
    "\n",
    "## 1.1. Cleaning data\n",
    "\n",
    "First, let's clean the dataset. Let's view the code!"
   ]
  },
  {
   "cell_type": "code",
   "execution_count": null,
   "metadata": {
    "azdata_cell_guid": "90df0417-0499-4410-83e5-34269402340e"
   },
   "outputs": [],
   "source": [
    "ALTER TABLE Latin_deaths DROP COLUMN continent, total_cases_per_million, \n",
    "total_deaths_per_million, gdp_per_capita, cardiovasc_death_rate, \n",
    "hospital_beds_per_thousand, human_development_index"
   ]
  },
  {
   "cell_type": "markdown",
   "metadata": {
    "azdata_cell_guid": "ab1fd000-9377-4f93-bd5c-71a6315a1ff6"
   },
   "source": [
    "## 1.2. Joining and creating views\n",
    "\n",
    "Due to the more than 87,000 rows, specific views were created to investigate the issues of interest. Likewise, the two tables were joined for deeper analysis.\n",
    "\n",
    "<u>View 1:  Contagion rate per day</u>"
   ]
  },
  {
   "cell_type": "code",
   "execution_count": null,
   "metadata": {
    "azdata_cell_guid": "f796a67d-8793-487e-ae5d-4d26eaa1d91c",
    "tags": []
   },
   "outputs": [],
   "source": [
    "CREATE VIEW DIATasaContagPorPob AS\n",
    "  SELECT location, date, population, total_cases, total_deaths\n",
    "    ,(total_deaths/total_cases)* 100 AS per_tasamortalidad\n",
    "    ,(total_cases/population)* 100 AS perc_contagiados\n",
    "  FROM PORTFOLIOProject..LatinDeaths\n",
    "  ORDER by total_cases desc"
   ]
  },
  {
   "cell_type": "markdown",
   "metadata": {
    "azdata_cell_guid": "ab230f3b-9ce5-46bd-ba7b-512a34be8aa9"
   },
   "source": [
    "<u>View 2:  Summary of contagion rate by country</u>"
   ]
  },
  {
   "cell_type": "code",
   "execution_count": null,
   "metadata": {
    "azdata_cell_guid": "2cae1f30-de8c-4873-9884-351dc15699e4"
   },
   "outputs": [],
   "source": [
    "CREATE VIEW RESUMEN AS\n",
    "  SELECT location, population,MAX(cast(total_deaths as int)) AS totmuertos\n",
    "  FROM PORTFOLIOProject..LatinDeaths\n",
    "  GROUP BY location, population"
   ]
  },
  {
   "cell_type": "markdown",
   "metadata": {
    "azdata_cell_guid": "fc5bf099-ced4-46bb-8d38-a9e3a80b4af2"
   },
   "source": [
    "<u>View 3:  Summary of death rate by population</u>"
   ]
  },
  {
   "cell_type": "code",
   "execution_count": null,
   "metadata": {
    "azdata_cell_guid": "1650e56d-5c3b-4589-9bd3-aeec17d631e4"
   },
   "outputs": [],
   "source": [
    "CREATE VIEW RESTasaMortPorPob AS\n",
    "  SELECT location, population, AVG(ROUND(median_age,0)) AS EdadProm\n",
    "    , ROUND(AVG(diabetes_prevalence),2) AS Diabetes\n",
    "    , MAX(cast(total_deaths as int)) AS totalDeath \n",
    "    ,MAX(total_deaths/population)*100 AS perc_tasamortali\n",
    "  FROM PORTFOLIOProject..LatinDeaths\n",
    "  GROUP BY location, population\n",
    "  ORDER BY perc_tasamortali desc"
   ]
  },
  {
   "cell_type": "markdown",
   "metadata": {
    "azdata_cell_guid": "bd41f14b-6c2f-475d-8b01-d97d0fed49bb"
   },
   "source": [
    "<u>View 4:  Percentage of population vaccinated</u>"
   ]
  },
  {
   "cell_type": "code",
   "execution_count": null,
   "metadata": {
    "azdata_cell_guid": "02d25fbd-2d6b-4b2a-afcc-930f52dfd33b"
   },
   "outputs": [],
   "source": [
    "CREATE VIEW PobVacuna AS\n",
    "  WITH vacc (location, date, population, people_vaccinated_per_hundred, new_vaccinations, total_vac)\n",
    "  AS \n",
    "  (\n",
    "    SELECT dea.location, dea.date, dea.population--,vac.people_vaccinated_per_hundred \n",
    "      ,vac.new_vaccinations\n",
    "      ,CAST(people_vaccinated_per_hundred as float) AS perc_pob_vac\n",
    "      ,SUM(CAST(vac.new_vaccinations as float)) \n",
    "      OVER(PARTITION BY dea.location ORDER BY dea.location, dea.date) as total_vac\n",
    "    FROM PORTFOLIOProject..LatinDeaths dea\n",
    "    JOIN PORTFOLIOProject..vacu_latin vac\n",
    "      ON dea.location = vac.location AND dea.date = vac.date\n",
    "\t)"
   ]
  },
  {
   "cell_type": "markdown",
   "metadata": {
    "azdata_cell_guid": "3fbb2d59-577f-4601-ad4d-c3a13a69ab32"
   },
   "source": [
    "# 2\\. Visualization\n",
    "\n",
    "[**View dashboard in Power BI APP**](https://app.powerbi.com/view?r=eyJrIjoiNzhiMWZjZmYtMDQyZS00ODlhLWI0ZmEtNDllYWFhYjJjMjIwIiwidCI6ImNhOTdjMGRjLTdkMmUtNGNmYy1iNTdjLWYyYjA1MTg1ZDVhNyJ9&pageName=ReportSection)\n",
    "\n",
    "Click the picture to open the dashboard and try it out!\n",
    "\n",
    "[![alt text](https://imgur.com/8nsB5xE.png)](https://app.powerbi.com/view?r=eyJrIjoiNzhiMWZjZmYtMDQyZS00ODlhLWI0ZmEtNDllYWFhYjJjMjIwIiwidCI6ImNhOTdjMGRjLTdkMmUtNGNmYy1iNTdjLWYyYjA1MTg1ZDVhNyJ9&pageName=ReportSection)\n",
    "\n"
   ]
  },
  {
   "cell_type": "markdown",
   "metadata": {
    "azdata_cell_guid": "068413b0-6d15-4b0e-860e-96cc621010e1"
   },
   "source": [
    "# 3\\. Results\n",
    "\n",
    "Peru by far has the **highest mortality rate** with respect to the population (0.607%), followed by Brazil (0.29%) and Argentina (0.26%), that is, approximately **6 out of every 1,000 Peruvians have died** from COVID-19 till the date.\n",
    "\n",
    "1. **What was the evolution of the mortality rate in Peru compared to other Latin American countries?:** Peru by far has the highest mortality rate with respect to the population (0.607%) as of December 27, 2021, followed by Brazil (0.29%) and Argentina (0.26%), that is, approximately 6 out of every 1,000 Peruvians have died from COVID-19.\n",
    "2. **Did factors such as diabetes incidence and average age have an influence on the mortality rate of the countries?:** No influence of diabetes incidence and the average age of Latin American countries on the mortality rate is observed\n",
    "3. **What impact did vaccination have on the mortality rate compared to other countries?:** The mortality rate before February 9 (vaccination start date) was 9.14%, until the end of 2021 this figure decreased to 8.89%. In other words, 3 out of every 1,000 infected stopped dying after vaccination.\n",
    "\n",
    "* * *\n",
    "\n",
    "## **<u>Contact me</u>**\n",
    "\n",
    "Lucero Emperatriz Sovero.\n",
    "\n",
    "[**My Website**](https://lu-emperatriz.github.io/Lucero-Portfolio-2/)\n",
    "\n",
    "[**View more Projects**](https://github.com/Lu-Emperatriz?tab=repositories)."
   ]
  }
 ],
 "metadata": {
  "kernelspec": {
   "display_name": "SQL",
   "language": "sql",
   "name": "SQL"
  },
  "language_info": {
   "name": "sql",
   "version": ""
  }
 },
 "nbformat": 4,
 "nbformat_minor": 2
}
